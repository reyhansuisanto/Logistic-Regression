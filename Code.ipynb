{
  "nbformat": 4,
  "nbformat_minor": 0,
  "metadata": {
    "colab": {
      "name": "No 4 UAS ML.ipynb",
      "provenance": [],
      "collapsed_sections": []
    },
    "kernelspec": {
      "name": "python3",
      "display_name": "Python 3"
    },
    "language_info": {
      "name": "python"
    }
  },
  "cells": [
    {
      "cell_type": "code",
      "metadata": {
        "id": "lfT3aTMXbXDT"
      },
      "source": [
        "# Reyhan Suisanto\n",
        "# 2301872980"
      ],
      "execution_count": 1,
      "outputs": []
    },
    {
      "cell_type": "code",
      "metadata": {
        "id": "sj9Kqxjn1FvA"
      },
      "source": [
        "import pandas as pd\n",
        "import numpy as np\n",
        "import matplotlib.pyplot as plt\n",
        "from sklearn.preprocessing import StandardScaler, MinMaxScaler\n",
        "from sklearn.model_selection import train_test_split\n",
        "from sklearn.metrics import confusion_matrix"
      ],
      "execution_count": 2,
      "outputs": []
    },
    {
      "cell_type": "markdown",
      "metadata": {
        "id": "j0Zu6gT0c_EO"
      },
      "source": [
        "Import data yang ada dari soal yaitu data train dan data test"
      ]
    },
    {
      "cell_type": "code",
      "metadata": {
        "id": "8PmNVioZ19eX"
      },
      "source": [
        "data = {'gmat':[780, 750, 690, 710, 680, 730, 690, 720, 740, 690, 610, 690, 710, 680, 770, 610, 580, 650, 540, 590, 620, 600, 550, 550, 570, 670, 660, 580, 650, 660, 640, 620, 660, 660, 680, 650, 670, 580, 590, 690],\n",
        "        'gpa':[4, 3.9, 3.3, 3.7, 3.9, 3.7, 2.3, 3.3, 3.3, 1.7, 2.7, 3.7, 3.7, 3.3, 3.3, 3, 2.7, 3.7, 2.7, 2.3, 3.3, 2, 2.3, 2.7, 3, 3.3, 3.7, 2.3, 3.7, 3.3, 3, 2.7, 4, 3.3, 3.3, 2.3, 2.7, 3.3, 1.7, 2.7],\n",
        "        'work_experience':[3, 4, 3, 5, 4, 6, 1, 4, 5, 1, 3, 5, 6, 4, 3, 1, 4, 6, 2, 3, 2, 1, 4, 1, 2, 6, 4, 2, 6, 5, 1, 2, 4, 6, 5, 1, 2, 1, 4, 5],\n",
        "        'admitted':[1, 1, 0, 1, 0, 1, 0, 1, 1, 0, 0, 1, 1, 0, 1, 0, 0, 1, 0, 0, 1, 0, 0, 0, 0, 1, 1, 0, 1, 1, 0, 0, 1, 1, 1, 0, 0, 0, 0, 1]}\n",
        "\n",
        "test = {'gmat':[590,740,680,610,710],\n",
        "        'gpa':[2,3.7,3.3,2.3,3],\n",
        "        'work_experience':[3,4,6,1,5]}\n",
        "\n",
        "data = pd.DataFrame(data)\n",
        "test = pd.DataFrame(test)"
      ],
      "execution_count": 3,
      "outputs": []
    },
    {
      "cell_type": "markdown",
      "metadata": {
        "id": "7nXEcXFRddaD"
      },
      "source": [
        "Normalisasi data. Disini saya menggunakan MinMaxScaler karena untuk logistic regression sendiri, jika ingin mendapat hasil yang bagus maka memerlukan MinMaxScaler. Jika menggunakan StandardScaler, hasilnya buruk.\n",
        "\n"
      ]
    },
    {
      "cell_type": "code",
      "metadata": {
        "id": "d3zlPvpd2EMc"
      },
      "source": [
        "keys = data.keys()\n",
        "keys1 = test.keys()\n",
        "\n",
        "scaler = MinMaxScaler()\n",
        "train = scaler.fit_transform(data)\n",
        "testdata = scaler.fit_transform(test)\n",
        "\n",
        "# DataFrame lagi agar data bisa gunakan\n",
        "train = pd.DataFrame(train, columns=keys)\n",
        "testdata = pd.DataFrame(testdata, columns=keys1)"
      ],
      "execution_count": 4,
      "outputs": []
    },
    {
      "cell_type": "markdown",
      "metadata": {
        "id": "DmpJXGFBdXhw"
      },
      "source": [
        "Pisah data menjadi feature dan label untuk train dan testing"
      ]
    },
    {
      "cell_type": "code",
      "metadata": {
        "id": "tmf9QQn72vbW"
      },
      "source": [
        "x = train.drop(\"admitted\", axis=1)\n",
        "y = train['admitted']\n",
        "\n",
        "# train test split\n",
        "x_train, x_val, y_train, y_val = train_test_split(x, y, test_size = 0.20, random_state = 0)\n",
        "\n",
        "x_train = np.array(x_train)\n",
        "y_train = np.array(y_train)\n",
        "x_val = np.array(x_val)\n",
        "y_val = np.array(y_val)"
      ],
      "execution_count": 5,
      "outputs": []
    },
    {
      "cell_type": "markdown",
      "metadata": {
        "id": "2dZIxhUcdSAH"
      },
      "source": [
        "Transpose dan reshape data agar data bisa digunakan untuk diproses"
      ]
    },
    {
      "cell_type": "code",
      "metadata": {
        "id": "65kWSBBD5ZTo"
      },
      "source": [
        "x_train  = x_train.T\n",
        "x_val  = x_val.T\n",
        "\n",
        "y_train  = y_train.reshape(1, x_train.shape[1])\n",
        "y_val  = y_val.reshape(1, x_val.shape[1])"
      ],
      "execution_count": 6,
      "outputs": []
    },
    {
      "cell_type": "markdown",
      "metadata": {
        "id": "Dt69FT0mdfCq"
      },
      "source": [
        "Code dibawah adalah code Logistic Regression"
      ]
    },
    {
      "cell_type": "code",
      "metadata": {
        "id": "EWpZQQpZ5zSw"
      },
      "source": [
        "def sigmoid(Z):\n",
        "    return 1 / (1 + np.exp(-Z))\n",
        "\n",
        "# Model\n",
        "def model(X, Y, lr, epoch):\n",
        "    m = X.shape[1]\n",
        "    f = X.shape[0]\n",
        "    \n",
        "    weight = np.zeros((f,1)) # weight\n",
        "    bias = 0 # bias\n",
        "    \n",
        "    cost_list = []\n",
        "    \n",
        "    # untuk menghitung cost function dan gradient descent\n",
        "    for i in range(epoch):\n",
        "        \n",
        "        Z = np.dot(weight.T, X) + bias\n",
        "        A = sigmoid(Z) # prediction\n",
        "        \n",
        "        cost = -(1/m)*np.sum( Y*np.log(A) + (1-Y)*np.log(1-A)) # cost function\n",
        "        \n",
        "        dW = (1/m)*np.dot(A-Y, X.T) # gradient descent\n",
        "        dB = (1/m)*np.sum(A - Y)\n",
        "        \n",
        "        weight = weight - lr*dW.T\n",
        "        bias = bias - lr*dB\n",
        "        \n",
        "        # memastikan agar cost nya nanti terus menurun\n",
        "        cost_list.append(cost)\n",
        "        \n",
        "        if(i%(epoch/10) == 0):\n",
        "            print(f\"{i} - cost : {cost}\")\n",
        "        \n",
        "    return weight, bias, cost_list"
      ],
      "execution_count": 7,
      "outputs": []
    },
    {
      "cell_type": "markdown",
      "metadata": {
        "id": "KDq1PCiPegwL"
      },
      "source": [
        "Iteration"
      ]
    },
    {
      "cell_type": "code",
      "metadata": {
        "colab": {
          "base_uri": "https://localhost:8080/"
        },
        "id": "pa1qI3HU53Xz",
        "outputId": "3c323989-1a7e-41bc-b53f-82bd8d0164ee"
      },
      "source": [
        "epoch = 10000\n",
        "lr = 0.02\n",
        "weight, bias, cost_list = model(x_train, y_train, lr = lr, epoch = epoch)"
      ],
      "execution_count": 8,
      "outputs": [
        {
          "output_type": "stream",
          "text": [
            "0 - cost : 0.6931471805599453\n",
            "1000 - cost : 0.43213559833767506\n",
            "2000 - cost : 0.3247059728542937\n",
            "3000 - cost : 0.2685258720704212\n",
            "4000 - cost : 0.23443509477645455\n",
            "5000 - cost : 0.21159503613854938\n",
            "6000 - cost : 0.19520573208048078\n",
            "7000 - cost : 0.18284408194598928\n",
            "8000 - cost : 0.17316209514193115\n",
            "9000 - cost : 0.1653523652328954\n"
          ],
          "name": "stdout"
        }
      ]
    },
    {
      "cell_type": "markdown",
      "metadata": {
        "id": "LVnQqt5_eiHJ"
      },
      "source": [
        "Hasil diatas menunjukan bahwa hasil dari cost functionnya bagus karena terus menurun"
      ]
    },
    {
      "cell_type": "code",
      "metadata": {
        "colab": {
          "base_uri": "https://localhost:8080/",
          "height": 279
        },
        "id": "7se8--Hz56Il",
        "outputId": "eae66b8c-3315-4ed3-e48f-4055bb50c04f"
      },
      "source": [
        "plt.plot(np.arange(epoch), cost_list)\n",
        "plt.xlabel('iteration')\n",
        "plt.ylabel('cost')\n",
        "plt.show()"
      ],
      "execution_count": 9,
      "outputs": [
        {
          "output_type": "display_data",
          "data": {
            "image/png": "[encoded data removed]",
            "text/plain": [
              "<Figure size 432x288 with 1 Axes>"
            ]
          },
          "metadata": {
            "tags": [],
            "needs_background": "light"
          }
        }
      ]
    },
    {
      "cell_type": "markdown",
      "metadata": {
        "id": "fSp1369DgVM_"
      },
      "source": [
        "Code dibawah adalah untuk mencari hasil \"admitted\" menggunakan data dari data testing seperti yang diminta di soal"
      ]
    },
    {
      "cell_type": "code",
      "metadata": {
        "colab": {
          "base_uri": "https://localhost:8080/"
        },
        "id": "1WoW7R2I-6Sy",
        "outputId": "433e443f-dd2c-4cdf-e45d-eff6855d2872"
      },
      "source": [
        "def pred_admit(X, weight, bias):\n",
        "    \n",
        "    Z = np.dot(weight.T, X) + bias\n",
        "    A = sigmoid(Z)\n",
        "    \n",
        "    A = A > 0.5\n",
        "    \n",
        "    A = A.astype(int)\n",
        "    \n",
        "    return A\n",
        "\n",
        "x_test = testdata.T\n",
        "\n",
        "test_admitted = pred_admit(x_test, weight, bias)\n",
        "test_admitted"
      ],
      "execution_count": 10,
      "outputs": [
        {
          "output_type": "execute_result",
          "data": {
            "text/plain": [
              "array([[0, 1, 1, 0, 1]])"
            ]
          },
          "metadata": {
            "tags": []
          },
          "execution_count": 10
        }
      ]
    },
    {
      "cell_type": "markdown",
      "metadata": {
        "id": "oYIXat9rghZO"
      },
      "source": [
        "Sesudah mendapatkan hasilnya, saya melakukan merge data agar lebih jelas dilihat"
      ]
    },
    {
      "cell_type": "code",
      "metadata": {
        "colab": {
          "base_uri": "https://localhost:8080/",
          "height": 204
        },
        "id": "ijBxbWCPAluD",
        "outputId": "1320f608-909c-46b8-f466-01a94f5e9232"
      },
      "source": [
        "s1 = pd.Series([\"0\", \"1\", \"1\", \"0\", \"1\"], name=\"admitted\")\n",
        "\n",
        "result = pd.concat([test, s1], axis=1)\n",
        "result"
      ],
      "execution_count": 11,
      "outputs": [
        {
          "output_type": "execute_result",
          "data": {
            "text/html": [
              "<div>\n",
              "<style scoped>\n",
              "    .dataframe tbody tr th:only-of-type {\n",
              "        vertical-align: middle;\n",
              "    }\n",
              "\n",
              "    .dataframe tbody tr th {\n",
              "        vertical-align: top;\n",
              "    }\n",
              "\n",
              "    .dataframe thead th {\n",
              "        text-align: right;\n",
              "    }\n",
              "</style>\n",
              "<table border=\"1\" class=\"dataframe\">\n",
              "  <thead>\n",
              "    <tr style=\"text-align: right;\">\n",
              "      <th></th>\n",
              "      <th>gmat</th>\n",
              "      <th>gpa</th>\n",
              "      <th>work_experience</th>\n",
              "      <th>admitted</th>\n",
              "    </tr>\n",
              "  </thead>\n",
              "  <tbody>\n",
              "    <tr>\n",
              "      <th>0</th>\n",
              "      <td>590</td>\n",
              "      <td>2.0</td>\n",
              "      <td>3</td>\n",
              "      <td>0</td>\n",
              "    </tr>\n",
              "    <tr>\n",
              "      <th>1</th>\n",
              "      <td>740</td>\n",
              "      <td>3.7</td>\n",
              "      <td>4</td>\n",
              "      <td>1</td>\n",
              "    </tr>\n",
              "    <tr>\n",
              "      <th>2</th>\n",
              "      <td>680</td>\n",
              "      <td>3.3</td>\n",
              "      <td>6</td>\n",
              "      <td>1</td>\n",
              "    </tr>\n",
              "    <tr>\n",
              "      <th>3</th>\n",
              "      <td>610</td>\n",
              "      <td>2.3</td>\n",
              "      <td>1</td>\n",
              "      <td>0</td>\n",
              "    </tr>\n",
              "    <tr>\n",
              "      <th>4</th>\n",
              "      <td>710</td>\n",
              "      <td>3.0</td>\n",
              "      <td>5</td>\n",
              "      <td>1</td>\n",
              "    </tr>\n",
              "  </tbody>\n",
              "</table>\n",
              "</div>"
            ],
            "text/plain": [
              "   gmat  gpa  work_experience admitted\n",
              "0   590  2.0                3        0\n",
              "1   740  3.7                4        1\n",
              "2   680  3.3                6        1\n",
              "3   610  2.3                1        0\n",
              "4   710  3.0                5        1"
            ]
          },
          "metadata": {
            "tags": []
          },
          "execution_count": 11
        }
      ]
    },
    {
      "cell_type": "markdown",
      "metadata": {
        "id": "4UOu6dv2etKv"
      },
      "source": [
        "Function untuk menghitung akurasi dengan menggunakan sigmoid"
      ]
    },
    {
      "cell_type": "code",
      "metadata": {
        "id": "sXiMw_-k580C"
      },
      "source": [
        "def accuracy(X, Y, weight, bias):\n",
        "    \n",
        "    Z = np.dot(weight.T, X) + bias\n",
        "    A = sigmoid(Z)\n",
        "    \n",
        "    A = A > 0.5\n",
        "    \n",
        "    A = A.astype(int)\n",
        "    \n",
        "    acc = (1 - np.sum(np.absolute(A - Y))/Y.shape[1])*100  \n",
        "    print(round(acc, 2))\n",
        "    \n",
        "    return A"
      ],
      "execution_count": 12,
      "outputs": []
    },
    {
      "cell_type": "markdown",
      "metadata": {
        "id": "0ByY-Dlvf0ea"
      },
      "source": [
        "Akurasi dari model ini adalah 75%"
      ]
    },
    {
      "cell_type": "code",
      "metadata": {
        "colab": {
          "base_uri": "https://localhost:8080/"
        },
        "id": "SUh50kLdfGdF",
        "outputId": "a1157f08-41e9-4064-d6c4-e7adf9fe4f18"
      },
      "source": [
        "y_pred = accuracy(x_val, y_val, weight, bias)"
      ],
      "execution_count": 13,
      "outputs": [
        {
          "output_type": "stream",
          "text": [
            "75.0\n"
          ],
          "name": "stdout"
        }
      ]
    },
    {
      "cell_type": "markdown",
      "metadata": {
        "id": "0TBeUPodf4t-"
      },
      "source": [
        "Lalu seperti yang diminta dari soal juga saya mencetak confusion matrixnya"
      ]
    },
    {
      "cell_type": "code",
      "metadata": {
        "colab": {
          "base_uri": "https://localhost:8080/"
        },
        "id": "VFDVatYh6DVO",
        "outputId": "058896bb-c7e8-43b7-ae90-28e0fc13abe4"
      },
      "source": [
        "confusion_matrix(y_val.argmax(axis=1), y_pred.argmax(axis=1))\n",
        "\n",
        "y_val = y_val.astype(int)\n",
        "print(\"Prediction:\",y_pred)\n",
        "print(\"Real:\",y_val)\n",
        "\n",
        "print(\"\\n[TP, FN]\\n[FN, TN]\\n\")\n",
        "print(\"[3, 1]\\n[1, 3]\")"
      ],
      "execution_count": 14,
      "outputs": [
        {
          "output_type": "stream",
          "text": [
            "Prediction: [[0 0 1 1 0 0 1 1]]\n",
            "Real: [[0 1 1 0 0 0 1 1]]\n",
            "\n",
            "[TP, FN]\n",
            "[FN, TN]\n",
            "\n",
            "[3, 1]\n",
            "[1, 3]\n"
          ],
          "name": "stdout"
        }
      ]
    }
  ]
}